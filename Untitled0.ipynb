{
  "nbformat": 4,
  "nbformat_minor": 0,
  "metadata": {
    "colab": {
      "name": "Untitled0.ipynb",
      "provenance": [],
      "authorship_tag": "ABX9TyONP4/A2A5s0+jGUOwUwIZp",
      "include_colab_link": true
    },
    "kernelspec": {
      "name": "python3",
      "display_name": "Python 3"
    }
  },
  "cells": [
    {
      "cell_type": "markdown",
      "metadata": {
        "id": "view-in-github",
        "colab_type": "text"
      },
      "source": [
        "<a href=\"https://colab.research.google.com/github/IsaacNascimento/Probabilidade-e-Estat-stica-20202-Probabilidade-e-Estat-stica-20202-/blob/master/Untitled0.ipynb\" target=\"_parent\"><img src=\"https://colab.research.google.com/assets/colab-badge.svg\" alt=\"Open In Colab\"/></a>"
      ]
    },
    {
      "cell_type": "code",
      "metadata": {
        "id": "7y2e6gnJ2BvA",
        "colab_type": "code",
        "colab": {
          "base_uri": "https://localhost:8080/",
          "height": 68
        },
        "outputId": "341a6ea4-ece8-4762-88d7-6071e5c305fd"
      },
      "source": [
        "'''Palavras1 = 'Texto1'\n",
        "Palavras2 = \"Texto2\"\n",
        "print(Palavras1) \n",
        "print(Palavras2)'''\n",
        "\n",
        "'''VarTexto = 'Texto 1\\nTexto 2'\n",
        "print(VarTexto)\n",
        "tamanho = len(VarTexto)\n",
        "print(tamanho)\n",
        "print(VarTexto[len(VarTexto)//15])\n",
        "print(VarTexto[::2])'''\n",
        "\n",
        "'''a = 'x'\n",
        "b = 'y'\n",
        "c = a + b\n",
        "d = 3*c\n",
        "print(c)\n",
        "print(d)'''\n",
        "\n",
        "MeuTexto = 'Gente bonita é muito bonita'\n",
        "Palavras = MeuTexto.split()\n",
        "print(Palavras)\n",
        "print(Palavras[2])\n",
        "SeparaPorLetras_o = MeuTexto.split('o')\n",
        "print(SeparaPorLetras_o)\n"
      ],
      "execution_count": 69,
      "outputs": [
        {
          "output_type": "stream",
          "text": [
            "['Gente', 'bonita', 'é', 'muito', 'bonita']\n",
            "é\n",
            "['Gente b', 'nita é muit', ' b', 'nita']\n"
          ],
          "name": "stdout"
        }
      ]
    }
  ]
}