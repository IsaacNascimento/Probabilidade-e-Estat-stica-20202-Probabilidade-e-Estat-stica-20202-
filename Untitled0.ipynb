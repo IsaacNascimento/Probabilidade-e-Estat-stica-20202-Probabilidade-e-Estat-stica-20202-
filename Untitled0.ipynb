{
  "nbformat": 4,
  "nbformat_minor": 0,
  "metadata": {
    "colab": {
      "name": "Untitled0.ipynb",
      "provenance": [],
      "authorship_tag": "ABX9TyNNssTnVfilR891iWFo/euy",
      "include_colab_link": true
    },
    "kernelspec": {
      "name": "python3",
      "display_name": "Python 3"
    }
  },
  "cells": [
    {
      "cell_type": "markdown",
      "metadata": {
        "id": "view-in-github",
        "colab_type": "text"
      },
      "source": [
        "<a href=\"https://colab.research.google.com/github/IsaacNascimento/Probabilidade-e-Estat-stica-20202-Probabilidade-e-Estat-stica-20202-/blob/master/Untitled0.ipynb\" target=\"_parent\"><img src=\"https://colab.research.google.com/assets/colab-badge.svg\" alt=\"Open In Colab\"/></a>"
      ]
    },
    {
      "cell_type": "code",
      "metadata": {
        "id": "7y2e6gnJ2BvA",
        "colab_type": "code",
        "colab": {
          "base_uri": "https://localhost:8080/",
          "height": 34
        },
        "outputId": "0042c57c-aac9-45e5-83cf-17e1c7944603"
      },
      "source": [
        "'''Palavras1 = 'Texto1'\n",
        "Palavras2 = \"Texto2\"\n",
        "print(Palavras1) \n",
        "print(Palavras2)'''\n",
        "\n",
        "'''VarTexto = 'Texto 1\\nTexto 2'\n",
        "print(VarTexto)\n",
        "tamanho = len(VarTexto)\n",
        "print(tamanho)\n",
        "print(VarTexto[len(VarTexto)//15])\n",
        "print(VarTexto[::2])'''\n",
        "\n",
        "'''a = 'x'\n",
        "b = 'y'\n",
        "c = a + b\n",
        "d = 3*c\n",
        "print(c)\n",
        "print(d)'''\n",
        "\n",
        "'''MeuTexto = 'Gente bonita é muito bonita'\n",
        "Palavras = MeuTexto.split()\n",
        "print(Palavras)\n",
        "print(Palavras[2])\n",
        "SeparaPorLetras_o = MeuTexto.split('o')\n",
        "print(SeparaPorLetras_o)\n",
        "print(len(MeuTexto.split()))'''\n",
        "\n",
        "Carros = 'Os carros que tive são: {}, {}, {}, {} e {}.'\n",
        "Carro0 = 'Ká'\n",
        "Carro1 = 'gol'\n",
        "Carro2 = 'sentra'\n",
        "Carro3 = 'bravo'\n",
        "Carro4 = 'Virtus'\n",
        "print(Carros.format(Carro0, Carro1, Carro2, Carro3, Carro4))\n",
        "\n"
      ],
      "execution_count": 72,
      "outputs": [
        {
          "output_type": "stream",
          "text": [
            "Os carros que tive são: Ká, gol, sentra, bravo e Virtus\n"
          ],
          "name": "stdout"
        }
      ]
    }
  ]
}